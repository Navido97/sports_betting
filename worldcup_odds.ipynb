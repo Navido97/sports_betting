{
 "cells": [
  {
   "cell_type": "code",
   "execution_count": 10,
   "id": "8d50124b-4c6f-4ebc-9038-13370430a37c",
   "metadata": {},
   "outputs": [],
   "source": [
    "import requests\n",
    "import pandas as pd\n",
    "import boto3"
   ]
  },
  {
   "cell_type": "code",
   "execution_count": 12,
   "id": "408b1da8-cdfa-4115-89ba-52587083cf5d",
   "metadata": {},
   "outputs": [
    {
     "name": "stdout",
     "output_type": "stream",
     "text": [
      "✅ CSV saved: worldcup_odds.csv\n",
      "✅ File uploaded to s3://soccer-data-bucket-nav/data/worldcup_odds.csv\n"
     ]
    }
   ],
   "source": [
    "API_KEY = \"6c13523c85c4fae3bb0d6d5ec7a89784\"  \n",
    "BUCKET_NAME = \"soccer-data-bucket-nav\"  \n",
    "CSV_FILE_NAME = \"worldcup_odds.csv\"\n",
    "S3_KEY = f\"data/{CSV_FILE_NAME}\"\n",
    "\n",
    "# ---------------------------------------\n",
    "# STEP 2: Fetch World Cup odds\n",
    "# ---------------------------------------\n",
    "url = \"https://api.the-odds-api.com/v4/sports/soccer_fifa_world_cup_winner/odds/\"\n",
    "params = {\n",
    "    \"regions\": \"us\",          # you can also try \"eu\" or \"uk\"\n",
    "    \"markets\": \"outrights\",\n",
    "    \"oddsFormat\": \"decimal\",\n",
    "    \"apiKey\": API_KEY\n",
    "}\n",
    "\n",
    "response = requests.get(url, params=params)\n",
    "response.raise_for_status()\n",
    "data = response.json()\n",
    "\n",
    "# ---------------------------------------\n",
    "# STEP 3: Parse odds data\n",
    "# ---------------------------------------\n",
    "rows = []\n",
    "\n",
    "for event in data:\n",
    "    for bookmaker in event.get(\"bookmakers\", []):\n",
    "        for market in bookmaker.get(\"markets\", []):\n",
    "            if market[\"key\"] == \"outrights\":\n",
    "                for outcome in market.get(\"outcomes\", []):\n",
    "                    rows.append({\n",
    "                        \"Team\": outcome[\"name\"],\n",
    "                        \"Odds\": outcome[\"price\"],\n",
    "                        \"Bookmaker\": bookmaker[\"title\"],\n",
    "                        \"Last Updated\": bookmaker[\"last_update\"]\n",
    "                    })\n",
    "\n",
    "# Convert to DataFrame\n",
    "df = pd.DataFrame(rows)\n",
    "df = df.sort_values(by=\"Odds\", ascending=True).drop_duplicates(subset=[\"Team\"])\n",
    "df.reset_index(drop=True, inplace=True)\n",
    "\n",
    "# ---------------------------------------\n",
    "# STEP 4: Save CSV locally\n",
    "# ---------------------------------------\n",
    "df.to_csv(CSV_FILE_NAME, index=False)\n",
    "print(f\"✅ CSV saved: {CSV_FILE_NAME}\")\n",
    "\n",
    "# ---------------------------------------\n",
    "# STEP 5: Upload to S3\n",
    "# ---------------------------------------\n",
    "s3 = boto3.client(\"s3\")\n",
    "s3.upload_file(CSV_FILE_NAME, BUCKET_NAME, S3_KEY)\n",
    "print(f\"✅ File uploaded to s3://{BUCKET_NAME}/{S3_KEY}\")"
   ]
  },
  {
   "cell_type": "code",
   "execution_count": 16,
   "id": "a63d41b5-7c47-4a0c-a8d0-00e7fe28ec59",
   "metadata": {},
   "outputs": [
    {
     "data": {
      "text/html": [
       "<div>\n",
       "<style scoped>\n",
       "    .dataframe tbody tr th:only-of-type {\n",
       "        vertical-align: middle;\n",
       "    }\n",
       "\n",
       "    .dataframe tbody tr th {\n",
       "        vertical-align: top;\n",
       "    }\n",
       "\n",
       "    .dataframe thead th {\n",
       "        text-align: right;\n",
       "    }\n",
       "</style>\n",
       "<table border=\"1\" class=\"dataframe\">\n",
       "  <thead>\n",
       "    <tr style=\"text-align: right;\">\n",
       "      <th></th>\n",
       "      <th>Team</th>\n",
       "      <th>Odds</th>\n",
       "      <th>Bookmaker</th>\n",
       "      <th>Last Updated</th>\n",
       "    </tr>\n",
       "  </thead>\n",
       "  <tbody>\n",
       "    <tr>\n",
       "      <th>0</th>\n",
       "      <td>Spain</td>\n",
       "      <td>6.0</td>\n",
       "      <td>DraftKings</td>\n",
       "      <td>2025-06-08T20:36:03Z</td>\n",
       "    </tr>\n",
       "    <tr>\n",
       "      <th>1</th>\n",
       "      <td>France</td>\n",
       "      <td>6.5</td>\n",
       "      <td>FanDuel</td>\n",
       "      <td>2025-06-08T20:17:02Z</td>\n",
       "    </tr>\n",
       "    <tr>\n",
       "      <th>2</th>\n",
       "      <td>Brazil</td>\n",
       "      <td>7.0</td>\n",
       "      <td>FanDuel</td>\n",
       "      <td>2025-06-08T20:17:02Z</td>\n",
       "    </tr>\n",
       "    <tr>\n",
       "      <th>3</th>\n",
       "      <td>England</td>\n",
       "      <td>7.5</td>\n",
       "      <td>Bovada</td>\n",
       "      <td>2025-06-08T20:37:41Z</td>\n",
       "    </tr>\n",
       "    <tr>\n",
       "      <th>4</th>\n",
       "      <td>Argentina</td>\n",
       "      <td>9.0</td>\n",
       "      <td>BetMGM</td>\n",
       "      <td>2025-06-08T20:39:46Z</td>\n",
       "    </tr>\n",
       "  </tbody>\n",
       "</table>\n",
       "</div>"
      ],
      "text/plain": [
       "        Team  Odds   Bookmaker          Last Updated\n",
       "0      Spain   6.0  DraftKings  2025-06-08T20:36:03Z\n",
       "1     France   6.5     FanDuel  2025-06-08T20:17:02Z\n",
       "2     Brazil   7.0     FanDuel  2025-06-08T20:17:02Z\n",
       "3    England   7.5      Bovada  2025-06-08T20:37:41Z\n",
       "4  Argentina   9.0      BetMGM  2025-06-08T20:39:46Z"
      ]
     },
     "execution_count": 16,
     "metadata": {},
     "output_type": "execute_result"
    }
   ],
   "source": [
    "df.head()"
   ]
  }
 ],
 "metadata": {
  "kernelspec": {
   "display_name": "Python [conda env:base] *",
   "language": "python",
   "name": "conda-base-py"
  },
  "language_info": {
   "codemirror_mode": {
    "name": "ipython",
    "version": 3
   },
   "file_extension": ".py",
   "mimetype": "text/x-python",
   "name": "python",
   "nbconvert_exporter": "python",
   "pygments_lexer": "ipython3",
   "version": "3.12.7"
  }
 },
 "nbformat": 4,
 "nbformat_minor": 5
}
